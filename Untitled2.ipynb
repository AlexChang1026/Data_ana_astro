{
 "cells": [
  {
   "cell_type": "code",
   "execution_count": 1,
   "id": "05147e27",
   "metadata": {},
   "outputs": [],
   "source": [
    "import numpy as np\n",
    "import astropy.io.fits as pf\n",
    "import matplotlib.pyplot as plt\n",
    "import matplotlib.cm as cm\n",
    "import importlib\n",
    "import scipy.stats as ss\n",
    "from kapteyn import kmpfit\n",
    "from scipy.optimize import curve_fit"
   ]
  },
  {
   "cell_type": "code",
   "execution_count": 2,
   "id": "f2659019",
   "metadata": {},
   "outputs": [],
   "source": [
    "data = pf.getdata(\"spec-3744-55209-0386.fits\")"
   ]
  },
  {
   "cell_type": "code",
   "execution_count": 26,
   "id": "e94c5752",
   "metadata": {},
   "outputs": [],
   "source": [
    "search = np.where(data['ivar']>0)\n",
    "flux = data['flux'][search[0]].astype('float64')\n",
    "wavelength = 10**data['loglam'][search[0]].astype('float64')\n",
    "ivar = data['ivar'][search[0]].astype('float64')"
   ]
  },
  {
   "cell_type": "code",
   "execution_count": 27,
   "id": "46b8e3b4",
   "metadata": {},
   "outputs": [],
   "source": [
    "def black_body(x,T,a):\n",
    "    \n",
    "    h=6.626*10**(-34)\n",
    "    c=3*10**8\n",
    "    k=1.38*10**(-23)\n",
    "    f1 = 2*a*h*(c**2)\n",
    "    f2 = h*c/(k*T)\n",
    "    fun1 = 1/(np.exp(f2/x)-1)\n",
    "    fun2 = f1/(x**5)\n",
    "    \n",
    "    return fun2*fun1"
   ]
  },
  {
   "cell_type": "code",
   "execution_count": 28,
   "id": "699e5ad2",
   "metadata": {},
   "outputs": [
    {
     "name": "stderr",
     "output_type": "stream",
     "text": [
      "/var/folders/n0/3y7lpqp53zx9s1kwpjwh42l00000gn/T/ipykernel_97217/2875105025.py:8: RuntimeWarning: overflow encountered in exp\n",
      "  fun1 = 1/(np.exp(f2/x)-1)\n"
     ]
    }
   ],
   "source": [
    "best_fit_parameter, pcov = curve_fit(black_body, wavelength, flux)"
   ]
  },
  {
   "cell_type": "code",
   "execution_count": null,
   "id": "c15a6d2f",
   "metadata": {},
   "outputs": [],
   "source": []
  }
 ],
 "metadata": {
  "kernelspec": {
   "display_name": "Python 3 (ipykernel)",
   "language": "python",
   "name": "python3"
  },
  "language_info": {
   "codemirror_mode": {
    "name": "ipython",
    "version": 3
   },
   "file_extension": ".py",
   "mimetype": "text/x-python",
   "name": "python",
   "nbconvert_exporter": "python",
   "pygments_lexer": "ipython3",
   "version": "3.9.6"
  }
 },
 "nbformat": 4,
 "nbformat_minor": 5
}
