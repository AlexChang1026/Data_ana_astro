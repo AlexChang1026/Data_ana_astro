{
 "cells": [
  {
   "cell_type": "code",
   "execution_count": 4,
   "id": "fd30d359",
   "metadata": {},
   "outputs": [],
   "source": [
    "import numpy as np\n",
    "import matplotlib.pyplot as plt\n",
    "import astropy.io.fits as pf"
   ]
  },
  {
   "cell_type": "code",
   "execution_count": 5,
   "id": "a4b3bd1c",
   "metadata": {},
   "outputs": [],
   "source": [
    "data = pf.getdata(\"/Users/zhangchuanyu/sky_maps_new_64_v6.fits\")"
   ]
  },
  {
   "cell_type": "code",
   "execution_count": 9,
   "id": "12d14caf",
   "metadata": {},
   "outputs": [],
   "source": [
    "EBV = data['SFD']\n",
    "HI = data['HI']/1e21\n",
    "cov_1 = np.zeros(len(EBV))"
   ]
  },
  {
   "cell_type": "code",
   "execution_count": 18,
   "id": "fe72995e",
   "metadata": {
    "scrolled": true
   },
   "outputs": [
    {
     "name": "stdout",
     "output_type": "stream",
     "text": [
      "49152\n",
      "1.2662135\n",
      "0.34656963\n"
     ]
    }
   ],
   "source": [
    "print(len(EBV))\n",
    "print(np.mean(HI))\n",
    "print((EBV[1]-np.mean(EBV))*(HI[1]-np.mean(HI)))"
   ]
  },
  {
   "cell_type": "code",
   "execution_count": 24,
   "id": "89b26907",
   "metadata": {},
   "outputs": [],
   "source": [
    "for x in range(len(EBV)):\n",
    "    EBV_i = EBV[x]\n",
    "    HI_i = HI[x]\n",
    "    cov_1.append((EBV_i-np.mean(EBV))*(HI_i-np.mean(HI)))"
   ]
  },
  {
   "cell_type": "code",
   "execution_count": 29,
   "id": "7b038443",
   "metadata": {},
   "outputs": [
    {
     "name": "stdout",
     "output_type": "stream",
     "text": [
      "0.7668333010574331\n"
     ]
    }
   ],
   "source": [
    "sum = 0\n",
    "std_EBV = np.std(EBV)\n",
    "std_HI = np.std(HI)\n",
    "for i in range(len(EBV)):\n",
    "    sum = cov_1[i]+sum\n",
    "print(sum/(len(EBV)*std_EBV*std_HI))    "
   ]
  },
  {
   "cell_type": "code",
   "execution_count": 30,
   "id": "6dfddfbf",
   "metadata": {},
   "outputs": [
    {
     "data": {
      "text/plain": [
       "['l',\n",
       " 'b',\n",
       " 'HI2',\n",
       " 'DIB',\n",
       " 'Ha',\n",
       " 'CO10',\n",
       " 'CO21',\n",
       " 'HI',\n",
       " 'SFD',\n",
       " 'my_E_gr',\n",
       " 'WISE_12um',\n",
       " 'N_spec',\n",
       " 'Planck_EBV',\n",
       " 'Panstarrs_EBV',\n",
       " 'radio_408MHz',\n",
       " 'CMB',\n",
       " 'distance']"
      ]
     },
     "execution_count": 30,
     "metadata": {},
     "output_type": "execute_result"
    }
   ],
   "source": [
    "data.names"
   ]
  },
  {
   "cell_type": "code",
   "execution_count": null,
   "id": "7dff6be3",
   "metadata": {},
   "outputs": [],
   "source": []
  },
  {
   "cell_type": "code",
   "execution_count": null,
   "id": "17ba1f9c",
   "metadata": {},
   "outputs": [],
   "source": []
  }
 ],
 "metadata": {
  "kernelspec": {
   "display_name": "Python 3 (ipykernel)",
   "language": "python",
   "name": "python3"
  },
  "language_info": {
   "codemirror_mode": {
    "name": "ipython",
    "version": 3
   },
   "file_extension": ".py",
   "mimetype": "text/x-python",
   "name": "python",
   "nbconvert_exporter": "python",
   "pygments_lexer": "ipython3",
   "version": "3.9.6"
  }
 },
 "nbformat": 4,
 "nbformat_minor": 5
}
