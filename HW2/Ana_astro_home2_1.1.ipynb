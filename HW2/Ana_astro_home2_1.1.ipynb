{
 "cells": [
  {
   "cell_type": "code",
   "execution_count": 3,
   "id": "41b07459",
   "metadata": {},
   "outputs": [],
   "source": [
    "import numpy as np \n",
    "import matplotlib.pyplot as plt "
   ]
  },
  {
   "cell_type": "code",
   "execution_count": 11,
   "id": "1492b210",
   "metadata": {},
   "outputs": [
    {
     "name": "stdout",
     "output_type": "stream",
     "text": [
      "MC value is 20.130785\n",
      "Theoretical prediction is 20.000000\n"
     ]
    }
   ],
   "source": [
    "mean = 0 \n",
    "sigma = 10 \n",
    "n_simulation = 1000\n",
    "var_var = np.zeros(n_simulation)\n",
    "\n",
    "for i in range(n_simulation):\n",
    "    gaus = np.random.normal(mean,sigma,n_simulation)\n",
    "    var_var[i] = np.std(gaus)*np.std(gaus)\n",
    "\n",
    "print(\"MC value is %f\" % (np.std(var_var)*np.std(var_var)))\n",
    "print(\"Theoretical prediction is %f\" %(2*(sigma**4)/n_simulation))"
   ]
  },
  {
   "cell_type": "code",
   "execution_count": null,
   "id": "1cede792",
   "metadata": {},
   "outputs": [],
   "source": []
  },
  {
   "cell_type": "code",
   "execution_count": null,
   "id": "3cced54c",
   "metadata": {},
   "outputs": [],
   "source": []
  }
 ],
 "metadata": {
  "kernelspec": {
   "display_name": "Python 3 (ipykernel)",
   "language": "python",
   "name": "python3"
  },
  "language_info": {
   "codemirror_mode": {
    "name": "ipython",
    "version": 3
   },
   "file_extension": ".py",
   "mimetype": "text/x-python",
   "name": "python",
   "nbconvert_exporter": "python",
   "pygments_lexer": "ipython3",
   "version": "3.9.6"
  }
 },
 "nbformat": 4,
 "nbformat_minor": 5
}
