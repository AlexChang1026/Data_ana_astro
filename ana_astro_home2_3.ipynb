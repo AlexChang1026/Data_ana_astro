{
 "cells": [
  {
   "cell_type": "code",
   "execution_count": 2,
   "id": "e1dc81e6",
   "metadata": {},
   "outputs": [],
   "source": [
    "import numpy as np\n",
    "import matplotlib.pyplot as plt\n",
    "import astropy.io.fits as pf"
   ]
  },
  {
   "cell_type": "code",
   "execution_count": 3,
   "id": "6fa18a81",
   "metadata": {},
   "outputs": [],
   "source": [
    "data = pf.getdata(\"/Users/zhangchuanyu/sky_maps_new_64_v6.fits\")"
   ]
  },
  {
   "cell_type": "code",
   "execution_count": 4,
   "id": "a1be26e6",
   "metadata": {},
   "outputs": [],
   "source": [
    "EBV = data['SFD']\n",
    "HI = data['HI']/1e21\n",
    "conversion_factor = 2*1e20/1e21 ### A factor to convert CO to H2\n",
    "H2 = data['CO10']*conversion_factor\n",
    "cov_1 = np.zeros(len(EBV))"
   ]
  },
  {
   "cell_type": "code",
   "execution_count": 11,
   "id": "9e2b9052",
   "metadata": {},
   "outputs": [],
   "source": [
    "def correlation_spearman(v_1,v_2):\n",
    "    \n",
    "    temp_v_1 = v_1.argsort()\n",
    "    v_1_rank = temp_v_1.argsort()\n",
    "    temp_v_2 = v_2.argsort()\n",
    "    v_2_rank = temp_v_2.argsort()\n",
    "    cov_1 = np.zeros(len(v_2))\n",
    "\n",
    "    for x in range(len(v_2)):\n",
    "        v_1_i = v_1_rank[x]\n",
    "        v_2_i = v_2_rank[x]\n",
    "        cov_1[x]=(v_1_i-np.mean(v_1_rank))*(v_2_i-np.mean(v_2_rank))\n",
    "    mean_std = np.mean(cov_1)\n",
    "    std_v_1 = np.std(v_1_rank)\n",
    "    std_v_2 = np.std(v_2_rank)\n",
    "\n",
    "    return mean_std/(std_v_1*std_v_2)   \n",
    "\n",
    "def correlation_pearson(v_1,v_2):\n",
    "    cov_1 = np.zeros(len(v_1))\n",
    "    for i in range(len(v_1)):\n",
    "        cov_1[i] = (v_1[i]-np.mean(v_1))*(v_2[i]-np.mean(v_2))\n",
    "    mean_std = np.mean(cov_1)\n",
    "    std_v_1 = np.std(v_1)\n",
    "    std_v_2 = np.std(v_2)\n",
    "    \n",
    "    return mean_std/(std_v_1*std_v_2)\n",
    "\n",
    "def correlation_spearman_error(v_1,v_2):\n",
    "    boots_time = 200\n",
    "    cor_error = []\n",
    "    for i in range(boots_time):\n",
    "        random_index = np.random.randint(0,len(v_1),len(v_1))\n",
    "        cor_error.append(correlation_spearman(v_1[random_index],v_2[random_index]))\n",
    "    return np.std(cor_error)\n",
    "\n",
    "def correlation_pearson_error(v_1,v_2):\n",
    "    boots_time = 200\n",
    "    cor_error = []\n",
    "    for i in range(boots_time):\n",
    "        random_index = np.random.randint(0,len(v_1),len(v_1))\n",
    "        cor_error.append(correlation_pearson(v_1[random_index],v_2[random_index]))\n",
    "    return np.std(cor_error)"
   ]
  },
  {
   "cell_type": "code",
   "execution_count": 12,
   "id": "8c648f0b",
   "metadata": {},
   "outputs": [
    {
     "name": "stdout",
     "output_type": "stream",
     "text": [
      "Spearman correlation is 0.976 +- 0.0003\n",
      "Pearson correlation is 0.767 +- 0.0169\n"
     ]
    }
   ],
   "source": [
    "print(\"Spearman correlation is %0.3f +- %0.4f\" %(correlation_spearman(EBV,HI),correlation_spearman_error(EBV,HI)))\n",
    "print(\"Pearson correlation is %0.3f +- %0.4f\" %(correlation_pearson(EBV,HI),correlation_pearson_error(EBV,HI)))"
   ]
  },
  {
   "cell_type": "code",
   "execution_count": 14,
   "id": "2293db5c",
   "metadata": {},
   "outputs": [
    {
     "name": "stdout",
     "output_type": "stream",
     "text": [
      "Spearman correlation is 0.356 +- 0.0047\n",
      "Pearson correlation is 0.865 +- 0.0142\n"
     ]
    }
   ],
   "source": [
    "print(\"Spearman correlation is %0.3f +- %0.4f\" %(correlation_spearman(EBV,H2),correlation_spearman_error(EBV,H2)))\n",
    "print(\"Pearson correlation is %0.3f +- %0.4f\" %(correlation_pearson(EBV,H2),correlation_pearson_error(EBV,H2)))"
   ]
  },
  {
   "cell_type": "code",
   "execution_count": null,
   "id": "7235d780",
   "metadata": {},
   "outputs": [],
   "source": []
  },
  {
   "cell_type": "code",
   "execution_count": null,
   "id": "00d53493",
   "metadata": {},
   "outputs": [],
   "source": []
  },
  {
   "cell_type": "code",
   "execution_count": null,
   "id": "a431ed99",
   "metadata": {},
   "outputs": [],
   "source": []
  }
 ],
 "metadata": {
  "kernelspec": {
   "display_name": "Python 3 (ipykernel)",
   "language": "python",
   "name": "python3"
  },
  "language_info": {
   "codemirror_mode": {
    "name": "ipython",
    "version": 3
   },
   "file_extension": ".py",
   "mimetype": "text/x-python",
   "name": "python",
   "nbconvert_exporter": "python",
   "pygments_lexer": "ipython3",
   "version": "3.9.6"
  }
 },
 "nbformat": 4,
 "nbformat_minor": 5
}
