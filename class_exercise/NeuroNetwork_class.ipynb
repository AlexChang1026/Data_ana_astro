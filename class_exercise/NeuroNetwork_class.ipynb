{
 "cells": [
  {
   "cell_type": "code",
   "execution_count": 5,
   "id": "00f08208",
   "metadata": {},
   "outputs": [],
   "source": [
    "import astropy.io.fits as pf\n",
    "import numpy as np\n",
    "import matplotlib.pyplot as plt\n",
    "import matplotlib.cm as cm\n",
    "import torch\n",
    "from torchsummary import summary"
   ]
  },
  {
   "cell_type": "code",
   "execution_count": 6,
   "id": "c7f0a0c6",
   "metadata": {},
   "outputs": [],
   "source": [
    "training = pf.open('SDSS_QSO_star_training.fits')\n",
    "test = pf.open('SDSS_QSO_star_testing.fits')"
   ]
  },
  {
   "cell_type": "code",
   "execution_count": 7,
   "id": "4a6adb08",
   "metadata": {},
   "outputs": [],
   "source": [
    "color_train = torch.from_numpy(np.array(training[0].data,dtype=np.float32))\n",
    "color_test = torch.from_numpy(np.array(test[0].data,dtype=np.float32))"
   ]
  },
  {
   "cell_type": "code",
   "execution_count": 8,
   "id": "de875d03",
   "metadata": {},
   "outputs": [],
   "source": [
    "test_labels = np.zeros((len(test[0].data),2))\n",
    "for i in range(0,len(test_labels)):\n",
    "    test_labels[i,test[1].data[i]]=1\n",
    "test_labels = torch.from_numpy(np.array(test_labels,dtype=np.float32))"
   ]
  },
  {
   "cell_type": "code",
   "execution_count": 9,
   "id": "c6093680",
   "metadata": {},
   "outputs": [],
   "source": [
    "train_labels = np.zeros((len(training[0].data),2))\n",
    "for i in range(0,len(train_labels)):\n",
    "    train_labels[i,training[1].data[i]]=1\n",
    "train_labels = torch.from_numpy(np.array(train_labels,dtype=np.float32))"
   ]
  },
  {
   "cell_type": "code",
   "execution_count": 20,
   "id": "f51a9f2d",
   "metadata": {},
   "outputs": [],
   "source": [
    "class fully_connected_NN_QSO_star(torch.nn.Module):\n",
    "    def __init__(self):\n",
    "        super(fully_connected_NN_QSO_star, self).__init__()\n",
    "        self.fc1 = torch.nn.Sequential(\n",
    "            torch.nn.Linear(4, 2),\n",
    "            #torch.nn.ReLU()\n",
    "            )\n",
    "      \n",
    "    def forward(self, x):\n",
    "        x = self.fc1(x)\n",
    "        out = x\n",
    "        return out"
   ]
  },
  {
   "cell_type": "code",
   "execution_count": 21,
   "id": "8711285f",
   "metadata": {},
   "outputs": [],
   "source": [
    "model = fully_connected_NN_QSO_star()"
   ]
  },
  {
   "cell_type": "code",
   "execution_count": 22,
   "id": "ef2dbc19",
   "metadata": {},
   "outputs": [],
   "source": [
    "learningRate = 0.1\n",
    "epochs = 1000\n",
    "class_weights = torch.FloatTensor([1,1])\n",
    "\n",
    "criterion = torch.nn.CrossEntropyLoss(class_weights)\n",
    "# Just the loss function : here we use the default MSELoss()\n",
    "optimizer = torch.optim.SGD(model.parameters(), lr=learningRate)"
   ]
  },
  {
   "cell_type": "code",
   "execution_count": 23,
   "id": "b0e95b6d",
   "metadata": {},
   "outputs": [],
   "source": [
    "accuracy_array = []\n",
    "accuracy_test_array = []\n",
    "loss_array = []\n",
    "loss_test_array = []\n",
    "epoch_array = []"
   ]
  },
  {
   "cell_type": "code",
   "execution_count": 24,
   "id": "7f74782c",
   "metadata": {},
   "outputs": [
    {
     "name": "stdout",
     "output_type": "stream",
     "text": [
      "epoch accuracy loss accuracy_test loss_test\n",
      "0 0.8450506 0.43430966 0.84066504 0.40165943\n",
      "50 0.96256477 0.33628348 0.9597044 0.34213924\n",
      "100 0.96351415 0.333279 0.9620136 0.34000406\n",
      "150 0.96298814 0.3331649 0.96166724 0.33949295\n",
      "200 0.9626802 0.3332175 0.96166724 0.33934605\n",
      "250 0.96257764 0.33325067 0.9615518 0.33929572\n",
      "300 0.9625263 0.33326566 0.9615518 0.3392758\n",
      "350 0.9624237 0.3332718 0.96166724 0.33926722\n",
      "400 0.96237236 0.33327407 0.96166724 0.3392633\n",
      "450 0.9623467 0.3332749 0.9615518 0.3392615\n",
      "500 0.9623467 0.3332752 0.96166724 0.33926064\n",
      "550 0.96233386 0.33327496 0.96166724 0.33926028\n",
      "600 0.96233386 0.33327502 0.96166724 0.3392601\n",
      "650 0.96232104 0.33327514 0.96166724 0.33925995\n",
      "700 0.96232104 0.33327505 0.96166724 0.33925992\n",
      "750 0.96232104 0.33327484 0.96166724 0.33925992\n",
      "800 0.96232104 0.33327478 0.96166724 0.33925992\n",
      "850 0.96232104 0.33327472 0.96166724 0.33925992\n",
      "900 0.96232104 0.33327472 0.96166724 0.33925992\n",
      "950 0.96232104 0.33327475 0.96166724 0.33925992\n"
     ]
    }
   ],
   "source": [
    "batch_size = 1024\n",
    "N_total_train = len(color_train[:,:])\n",
    "print(\"epoch\",\"accuracy\",\"loss\", \"accuracy_test\",\"loss_test\")\n",
    "for epoch in range(epochs):\n",
    "\n",
    "    ''' simple mini-batch calculation'''\n",
    "    for start_index_batch in range(0,N_total_train,batch_size):\n",
    "        # Clear gradient buffers because we don't want any gradient from previous epoch to carry forward, dont want to cummulate gradients\n",
    "        optimizer.zero_grad()\n",
    "        end_index = min(start_index_batch + batch_size, N_total_train)\n",
    "        # get output from the model, given the inputs\n",
    "        #print(len(color_train[start_index_batch:end_index,:]))\n",
    "        outputs = model(color_train[start_index_batch:end_index,:])\n",
    "        \n",
    "        # get loss for the predicted output\n",
    "        loss = criterion(outputs, train_labels[start_index_batch:end_index,:])\n",
    "        # get gradients w.r.t to parameters\n",
    "        loss.backward()\n",
    "        # update parameters\n",
    "        optimizer.step()\n",
    "    \n",
    "    ### Below is for recording the performance metrics\n",
    "    #------------------------------------------------------------------   \n",
    "    outputs_all = model(color_train)\n",
    "    pred_y = torch.max(outputs_all, 1)[1].data.squeeze()\n",
    "    accuracy = torch.sum(pred_y == torch.from_numpy(np.array(training[1].data,dtype=np.float32))).type(torch.FloatTensor) / pred_y.size(0)\n",
    "\n",
    "    epoch_array.append(epoch)\n",
    "\n",
    "    loss_array.append(float(loss.detach().numpy()))\n",
    "    accuracy_array.append(float(accuracy.numpy()))\n",
    "\n",
    "\n",
    "    outputs_test = model(color_test) \n",
    "    loss_test = criterion(outputs_test, test_labels)\n",
    "\n",
    "    pred_y_test = torch.max(outputs_test, 1)[1].data.squeeze()\n",
    "    accuracy_test = torch.sum(pred_y_test == torch.from_numpy(np.array(test[1].data,dtype=np.float64))).type(torch.FloatTensor) / pred_y_test.size(0)\n",
    "    accuracy_test_array.append(float(accuracy_test.numpy()))\n",
    "    loss_test_array.append(float(loss_test.detach().numpy()))\n",
    "\n",
    "    if epoch % 50 ==0:\n",
    "        print(epoch,accuracy.numpy(),loss.detach().numpy(), accuracy_test.numpy(),loss_test.detach().numpy())"
   ]
  },
  {
   "cell_type": "code",
   "execution_count": null,
   "id": "1481627c",
   "metadata": {},
   "outputs": [],
   "source": [
    "import "
   ]
  }
 ],
 "metadata": {
  "kernelspec": {
   "display_name": "Python 3 (ipykernel)",
   "language": "python",
   "name": "python3"
  },
  "language_info": {
   "codemirror_mode": {
    "name": "ipython",
    "version": 3
   },
   "file_extension": ".py",
   "mimetype": "text/x-python",
   "name": "python",
   "nbconvert_exporter": "python",
   "pygments_lexer": "ipython3",
   "version": "3.9.9"
  }
 },
 "nbformat": 4,
 "nbformat_minor": 5
}
