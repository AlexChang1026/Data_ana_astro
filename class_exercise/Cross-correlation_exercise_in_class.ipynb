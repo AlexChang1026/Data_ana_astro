{
 "cells": [
  {
   "cell_type": "code",
   "execution_count": 2,
   "id": "e4e0344c",
   "metadata": {},
   "outputs": [],
   "source": [
    "import numpy as np\n",
    "import matplotlib.pyplot as plt"
   ]
  },
  {
   "cell_type": "code",
   "execution_count": 5,
   "id": "1f797c06",
   "metadata": {},
   "outputs": [],
   "source": [
    "### https://www.dropbox.com/s/oo9o50jjebjjpor/simple_correlation_100_x_y.npy?dl=0\n",
    "### https://www.dropbox.com/s/oo9o50jjebjjpor/simple_correlation_1000_x_y.npy?dl=0\n",
    "### https://www.dropbox.com/s/ew850eai3gkk4st/simple_correlation_10000_x_y.npy?dl=0"
   ]
  },
  {
   "cell_type": "code",
   "execution_count": 4,
   "id": "b1986145",
   "metadata": {},
   "outputs": [],
   "source": [
    "new_data = np.load('simple_correlation_100_x_y.npy')\n",
    "x = new_data[0,:]\n",
    "y = new_data[1,:]"
   ]
  },
  {
   "cell_type": "code",
   "execution_count": 9,
   "id": "b87b78a1",
   "metadata": {},
   "outputs": [
    {
     "data": {
      "text/plain": [
       "<matplotlib.collections.PathCollection at 0x7fc998b720d0>"
      ]
     },
     "execution_count": 9,
     "metadata": {},
     "output_type": "execute_result"
    },
    {
     "data": {
      "image/png": "[encoded data removed]",
      "text/plain": [
       "<Figure size 432x288 with 1 Axes>"
      ]
     },
     "metadata": {
      "needs_background": "light"
     },
     "output_type": "display_data"
    }
   ],
   "source": [
    "plt.scatter(x+np.random.normal(0,0.05,len(x)),y)"
   ]
  },
  {
   "cell_type": "code",
   "execution_count": 10,
   "id": "3f4ebf34",
   "metadata": {},
   "outputs": [
    {
     "name": "stdout",
     "output_type": "stream",
     "text": [
      "-0.5468913258301743\n"
     ]
    }
   ],
   "source": [
    "measured_signal = calculate_signal(x,y)\n",
    "print(measured_signal)"
   ]
  },
  {
   "cell_type": "markdown",
   "id": "df752ac8",
   "metadata": {},
   "source": [
    "### 1. Write a simple function to calculate the y_0,mean(y) when x==0 and the y_1, mean(y) when x==1\n",
    "### 2. dy = mean(y_1) - mean(y_0)\n",
    "### 3. Estimate the uncertainty of dy with error propagation\n",
    "### 4. Estimate the uncertainty of dy with bootstrap"
   ]
  },
  {
   "cell_type": "code",
   "execution_count": null,
   "id": "bd76f09d",
   "metadata": {},
   "outputs": [],
   "source": []
  },
  {
   "cell_type": "code",
   "execution_count": null,
   "id": "b99ec27e",
   "metadata": {},
   "outputs": [],
   "source": []
  },
  {
   "cell_type": "code",
   "execution_count": null,
   "id": "829b2485",
   "metadata": {},
   "outputs": [],
   "source": []
  },
  {
   "cell_type": "code",
   "execution_count": null,
   "id": "a66439c9",
   "metadata": {},
   "outputs": [],
   "source": []
  },
  {
   "cell_type": "code",
   "execution_count": null,
   "id": "b595b88a",
   "metadata": {},
   "outputs": [],
   "source": []
  },
  {
   "cell_type": "code",
   "execution_count": null,
   "id": "0334098a",
   "metadata": {},
   "outputs": [],
   "source": []
  },
  {
   "cell_type": "code",
   "execution_count": null,
   "id": "ef10b76e",
   "metadata": {},
   "outputs": [],
   "source": [
    "### normal error propagation\n",
    "search = np.where(x==0)[0]\n",
    "y_0_err = np.std(y[search])/np.sqrt(len(search))\n",
    "search = np.where(x==1)[0]\n",
    "y_1_err = np.std(y[search])/np.sqrt(len(search))"
   ]
  },
  {
   "cell_type": "code",
   "execution_count": null,
   "id": "60fec937",
   "metadata": {},
   "outputs": [],
   "source": [
    "np.sqrt(y_1_err**2+y_0_err**2)"
   ]
  },
  {
   "cell_type": "code",
   "execution_count": null,
   "id": "8b97e7d0",
   "metadata": {},
   "outputs": [],
   "source": [
    "### Bootstrap error\n",
    "bootstrap_value = []\n",
    "bootstrap_time = 200\n",
    "for i in range(0,bootstrap_time):\n",
    "    random_index = np.random.randint(0,len(x),len(x))\n",
    "    bootstrap_value.append(calculate_signal(x[random_index],y[random_index]))"
   ]
  },
  {
   "cell_type": "code",
   "execution_count": 7,
   "id": "71741173",
   "metadata": {},
   "outputs": [],
   "source": [
    "def calculate_signal(x,y):\n",
    "    search = np.where(x==0)\n",
    "    est_y_background = np.mean(y[search[0]])  \n",
    "    search = np.where(x==1)\n",
    "    return np.mean((y[search[0]]-est_y_background))#[search[0]])"
   ]
  },
  {
   "cell_type": "code",
   "execution_count": null,
   "id": "e302c91b",
   "metadata": {},
   "outputs": [],
   "source": []
  }
 ],
 "metadata": {
  "kernelspec": {
   "display_name": "Python 3 (ipykernel)",
   "language": "python",
   "name": "python3"
  },
  "language_info": {
   "codemirror_mode": {
    "name": "ipython",
    "version": 3
   },
   "file_extension": ".py",
   "mimetype": "text/x-python",
   "name": "python",
   "nbconvert_exporter": "python",
   "pygments_lexer": "ipython3",
   "version": "3.9.6"
  }
 },
 "nbformat": 4,
 "nbformat_minor": 5
}
