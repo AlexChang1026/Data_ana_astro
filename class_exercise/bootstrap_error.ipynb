{
 "cells": [
  {
   "cell_type": "code",
   "execution_count": 1,
   "id": "7f536486",
   "metadata": {},
   "outputs": [],
   "source": [
    "import numpy as np \n",
    "import matplotlib.pyplot as plt \n"
   ]
  },
  {
   "cell_type": "code",
   "execution_count": 12,
   "id": "7ac8afae",
   "metadata": {},
   "outputs": [
    {
     "data": {
      "text/plain": [
       "[<matplotlib.lines.Line2D at 0x11a677940>]"
      ]
     },
     "execution_count": 12,
     "metadata": {},
     "output_type": "execute_result"
    },
    {
     "data": {
      "image/png": "[encoded data removed]",
      "text/plain": [
       "<Figure size 432x288 with 1 Axes>"
      ]
     },
     "metadata": {
      "needs_background": "light"
     },
     "output_type": "display_data"
    }
   ],
   "source": [
    "#sigma = 1 \n",
    "#mu = 1 \n",
    "n_simulation = 1000 \n",
    "input_number = np.arange(100,5000,100)\n",
    "std_n = []\n",
    "for n_point in range(len(input_number)): \n",
    "    mean_value = np.zeros(n_simulation)\n",
    "    for i in range(n_simulation):\n",
    "        random_data = np.random.normal(mu,sigma,input_number[n_point])\n",
    "        mean_value[i] = np.mean(random_data)  \n",
    "    std_n.append(np.std(mean_value))\n",
    "\n",
    "plt.plot(input_number,std_n,marker='o')\n",
    "        "
   ]
  },
  {
   "cell_type": "code",
   "execution_count": null,
   "id": "4a2c09b6",
   "metadata": {},
   "outputs": [],
   "source": []
  }
 ],
 "metadata": {
  "kernelspec": {
   "display_name": "Python 3 (ipykernel)",
   "language": "python",
   "name": "python3"
  },
  "language_info": {
   "codemirror_mode": {
    "name": "ipython",
    "version": 3
   },
   "file_extension": ".py",
   "mimetype": "text/x-python",
   "name": "python",
   "nbconvert_exporter": "python",
   "pygments_lexer": "ipython3",
   "version": "3.9.6"
  }
 },
 "nbformat": 4,
 "nbformat_minor": 5
}
