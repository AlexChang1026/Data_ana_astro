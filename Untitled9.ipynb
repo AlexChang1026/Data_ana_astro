{
 "cells": [
  {
   "cell_type": "code",
   "execution_count": 8,
   "id": "867ae2b1",
   "metadata": {},
   "outputs": [
    {
     "name": "stdout",
     "output_type": "stream",
     "text": [
      "0.01414213562373095\n",
      "0.05648543613271715\n"
     ]
    },
    {
     "data": {
      "image/png": "[encoded data removed]",
      "text/plain": [
       "<Figure size 432x288 with 1 Axes>"
      ]
     },
     "metadata": {
      "needs_background": "light"
     },
     "output_type": "display_data"
    }
   ],
   "source": [
    "import numpy as np \n",
    "import matplotlib.pyplot as plt \n",
    "\n",
    "n_point = 5000 \n",
    "mean_value = np.zeros(n_point)\n",
    "for x in range(5000):\n",
    "    normal_cauchy = np.random.standard_cauchy(5000)\n",
    "    normal_cauchy = normal_cauchy[(normal_cauchy>-25) & (normal_cauchy<25)]\n",
    "    mean_value[x] = np.mean(normal_cauchy)\n",
    "plt.hist(mean_value)\n",
    "print(1/np.sqrt(5000))\n",
    "print(np.std(mean_value))"
   ]
  },
  {
   "cell_type": "code",
   "execution_count": 10,
   "id": "6f66b237",
   "metadata": {},
   "outputs": [
    {
     "name": "stdout",
     "output_type": "stream",
     "text": [
      "\u001b[33mDEPRECATION: Configuring installation scheme with distutils config files is deprecated and will no longer work in the near future. If you are using a Homebrew or Linuxbrew Python, please see discussion at https://github.com/Homebrew/homebrew-core/issues/76621\u001b[0m\n",
      "Collecting https://www.astro.rug.nl/software/kapteyn/kapteyn-3.0.tar.gz\n",
      "  Downloading https://www.astro.rug.nl/software/kapteyn/kapteyn-3.0.tar.gz (3.5 MB)\n",
      "\u001b[K     |████████████████████████████████| 3.5 MB 178 kB/s eta 0:00:01\n",
      "\u001b[?25hCollecting Cython\n",
      "  Using cached Cython-0.29.24-cp39-cp39-macosx_10_9_x86_64.whl (1.9 MB)\n",
      "Requirement already satisfied: numpy in /usr/local/lib/python3.9/site-packages (from kapteyn===Apple) (1.19.5)\n",
      "Building wheels for collected packages: kapteyn\n",
      "  Building wheel for kapteyn (setup.py) ... \u001b[?25ldone\n",
      "\u001b[?25h  Created wheel for kapteyn: filename=kapteyn-Apple-cp39-cp39-macosx_11_0_x86_64.whl size=1014290 sha256=bd9c54e013c3eabfcdd3438f65b74c7c0fdd6e53724d719554964c487cdd35c8\n",
      "  Stored in directory: /Users/zhangchuanyu/Library/Caches/pip/wheels/d2/d1/c5/40748ec3df25632c6bf004450a72f8027bbfe96b255c2a781d\n",
      "\u001b[33m  WARNING: Built wheel for kapteyn is invalid: Metadata 1.2 mandates PEP 440 version, but 'Apple' is not\u001b[0m\n",
      "Failed to build kapteyn\n",
      "Installing collected packages: Cython, kapteyn\n",
      "\u001b[33m  DEPRECATION: Configuring installation scheme with distutils config files is deprecated and will no longer work in the near future. If you are using a Homebrew or Linuxbrew Python, please see discussion at https://github.com/Homebrew/homebrew-core/issues/76621\u001b[0m\n",
      "    Running setup.py install for kapteyn ... \u001b[?25ldone\n",
      "\u001b[33m  DEPRECATION: kapteyn was installed using the legacy 'setup.py install' method, because a wheel could not be built for it. A possible replacement is to fix the wheel build issue reported above. You can find discussion regarding this at https://github.com/pypa/pip/issues/8368.\u001b[0m\n",
      "\u001b[?25hSuccessfully installed Cython-0.29.24 kapteyn-Apple\n",
      "\u001b[33mWARNING: You are using pip version 21.2.4; however, version 21.3.1 is available.\n",
      "You should consider upgrading via the '/usr/local/opt/python@3.9/bin/python3.9 -m pip install --upgrade pip' command.\u001b[0m\n",
      "Note: you may need to restart the kernel to use updated packages.\n"
     ]
    }
   ],
   "source": [
    "pip install https://www.astro.rug.nl/software/kapteyn/kapteyn-3.0.tar.gz"
   ]
  },
  {
   "cell_type": "code",
   "execution_count": 11,
   "id": "03b049f8",
   "metadata": {},
   "outputs": [],
   "source": [
    "from kapteyn import kmpfit"
   ]
  },
  {
   "cell_type": "code",
   "execution_count": null,
   "id": "4c17789b",
   "metadata": {},
   "outputs": [],
   "source": []
  }
 ],
 "metadata": {
  "kernelspec": {
   "display_name": "Python 3 (ipykernel)",
   "language": "python",
   "name": "python3"
  },
  "language_info": {
   "codemirror_mode": {
    "name": "ipython",
    "version": 3
   },
   "file_extension": ".py",
   "mimetype": "text/x-python",
   "name": "python",
   "nbconvert_exporter": "python",
   "pygments_lexer": "ipython3",
   "version": "3.9.6"
  }
 },
 "nbformat": 4,
 "nbformat_minor": 5
}
