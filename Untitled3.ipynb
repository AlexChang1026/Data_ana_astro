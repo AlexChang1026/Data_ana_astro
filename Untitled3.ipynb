{
 "cells": [
  {
   "cell_type": "code",
   "execution_count": 19,
   "id": "fd82074a",
   "metadata": {},
   "outputs": [],
   "source": [
    "import numpy as np \n",
    "import matplotlib.pyplot as plt \n",
    "import ROOT "
   ]
  },
  {
   "cell_type": "code",
   "execution_count": 22,
   "id": "948e13de",
   "metadata": {},
   "outputs": [
    {
     "data": {
      "text/plain": [
       "1"
      ]
     },
     "execution_count": 22,
     "metadata": {},
     "output_type": "execute_result"
    }
   ],
   "source": [
    "chn = ROOT.TChain(\"h1\")\n",
    "chn.Add(\"/Users/zhangchuanyu/Desktop/6.24.02/share/root/macros/rareplambdapi_cs_pre.root\")"
   ]
  },
  {
   "cell_type": "code",
   "execution_count": 31,
   "id": "4e4ebf1a",
   "metadata": {},
   "outputs": [
    {
     "name": "stderr",
     "output_type": "stream",
     "text": [
      "Warning in <TROOT::Append>: Replacing existing TH1: hist (Potential memory leak).\n"
     ]
    }
   ],
   "source": [
    "hist=ROOT.TH2F(\"hist\",\"\",100,5.23,5.30,100,-0.3,0.2)"
   ]
  },
  {
   "cell_type": "code",
   "execution_count": 29,
   "id": "8763a900",
   "metadata": {},
   "outputs": [],
   "source": [
    "chn.Draw(\"mbc0:de>>hist\")"
   ]
  },
  {
   "cell_type": "code",
   "execution_count": 30,
   "id": "6f966f26",
   "metadata": {},
   "outputs": [],
   "source": [
    "hist.Draw()"
   ]
  },
  {
   "cell_type": "code",
   "execution_count": null,
   "id": "f78ff5b5",
   "metadata": {},
   "outputs": [],
   "source": []
  }
 ],
 "metadata": {
  "kernelspec": {
   "display_name": "Python 3 (ipykernel)",
   "language": "python",
   "name": "python3"
  },
  "language_info": {
   "codemirror_mode": {
    "name": "ipython",
    "version": 3
   },
   "file_extension": ".py",
   "mimetype": "text/x-python",
   "name": "python",
   "nbconvert_exporter": "python",
   "pygments_lexer": "ipython3",
   "version": "3.9.6"
  }
 },
 "nbformat": 4,
 "nbformat_minor": 5
}
