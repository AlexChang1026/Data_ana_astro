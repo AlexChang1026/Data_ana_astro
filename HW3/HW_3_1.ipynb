{
 "cells": [
  {
   "cell_type": "code",
   "execution_count": 82,
   "id": "3628daff",
   "metadata": {},
   "outputs": [],
   "source": [
    "import numpy as np\n",
    "import astropy.io.fits as pf\n",
    "import matplotlib.pyplot as plt\n",
    "import matplotlib.cm as cm\n",
    "import scipy.stats as ss\n",
    "from scipy.optimize import curve_fit"
   ]
  },
  {
   "cell_type": "code",
   "execution_count": 101,
   "id": "37ad2ae2",
   "metadata": {},
   "outputs": [],
   "source": [
    "new_data = np.load('simple_correlation_10000_x_y_01234.npy')"
   ]
  },
  {
   "cell_type": "code",
   "execution_count": 102,
   "id": "114ef50e",
   "metadata": {},
   "outputs": [],
   "source": [
    "x = new_data[0,:]\n",
    "y = new_data[1,:]"
   ]
  },
  {
   "cell_type": "code",
   "execution_count": 103,
   "id": "f240f1f8",
   "metadata": {},
   "outputs": [],
   "source": [
    "def condition(x_i,x_c):\n",
    "    return np.where(x_i==x_c)[0]\n",
    "def calculate_y(x_m,y_m,c): \n",
    "    return np.mean(y_m[condition(x_m,c)])-np.mean(y_m[condition(x_m,0)])"
   ]
  },
  {
   "cell_type": "code",
   "execution_count": 126,
   "id": "7e7e015c",
   "metadata": {},
   "outputs": [
    {
     "name": "stdout",
     "output_type": "stream",
     "text": [
      "[0.31118284893614095, 0.29412982291817674, 0.3079393080082553, 0.3112526523083725]\n",
      "[0.31497545029801116, 0.3205193253670118, 0.3169106197181442, 0.31961733705660983]\n"
     ]
    }
   ],
   "source": [
    "boostrap_time = 200\n",
    "boostrap_error = []\n",
    "propagate_error = []\n",
    "for j in range(1,5):\n",
    "    boostrap_value = []\n",
    "    search = np.where(x==0)[0]\n",
    "    y_0_err = np.std(y[search])/np.sqrt(len(search))\n",
    "    search_i = np.where(x==j)[0]\n",
    "    y_i_err = np.std(y[search_i])/np.sqrt(len(search_i))\n",
    "    \n",
    "    for i in range(boostrap_time):\n",
    "        random_index = np.random.randint(0,len(x),len(x))\n",
    "        y_mod = y[random_index]\n",
    "        x_mod = x[random_index]\n",
    "        boostrap_value.append(calculate_y(x_mod,y_mod,j))\n",
    "    boostrap_error.append(np.std(boostrap_value))\n",
    "    propagate_error.append(np.sqrt(y_i_err**2+y_0_err**2))\n",
    "print(boostrap_error)\n",
    "print(propagate_error)"
   ]
  },
  {
   "cell_type": "code",
   "execution_count": 125,
   "id": "4002c519",
   "metadata": {},
   "outputs": [],
   "source": [
    "delta_y = []\n",
    "for j in range(1,5):\n",
    "    delta_y.append(np.mean(y[condition(x,j)])-np.mean(y[condition(x,0)]))   "
   ]
  },
  {
   "cell_type": "code",
   "execution_count": 106,
   "id": "9ae4175f",
   "metadata": {},
   "outputs": [
    {
     "data": {
      "text/plain": [
       "Text(0, 0.5, '<$\\\\Delta y$>')"
      ]
     },
     "execution_count": 106,
     "metadata": {},
     "output_type": "execute_result"
    },
    {
     "data": {
      "image/png": "[encoded data removed]",
      "text/plain": [
       "<Figure size 432x288 with 1 Axes>"
      ]
     },
     "metadata": {
      "needs_background": "light"
     },
     "output_type": "display_data"
    }
   ],
   "source": [
    "x_axis=[1,2,3,4]\n",
    "plt.errorbar(x_axis,delta_y,boostrap_error,fmt='.k')\n",
    "plt.xlabel(\"x\",fontsize=18)\n",
    "plt.ylabel(\"<$\\Delta y$>\",fontsize=18)"
   ]
  },
  {
   "cell_type": "code",
   "execution_count": 84,
   "id": "55be5938",
   "metadata": {},
   "outputs": [],
   "source": [
    "def fuc(x,a,b):\n",
    "    return a*x+b"
   ]
  },
  {
   "cell_type": "code",
   "execution_count": 85,
   "id": "77116763",
   "metadata": {},
   "outputs": [],
   "source": [
    "best_fit_parameter, pcov=curve_fit(fuc,x_axis,delta_y)"
   ]
  },
  {
   "cell_type": "code",
   "execution_count": 86,
   "id": "11d1a06b",
   "metadata": {},
   "outputs": [
    {
     "data": {
      "text/plain": [
       "array([ 1.10032036, -0.27848562])"
      ]
     },
     "execution_count": 86,
     "metadata": {},
     "output_type": "execute_result"
    }
   ],
   "source": [
    "best_fit_parameter"
   ]
  },
  {
   "cell_type": "code",
   "execution_count": 127,
   "id": "e2f9d37d",
   "metadata": {},
   "outputs": [
    {
     "data": {
      "text/plain": [
       "Text(0, 0.5, '<$\\\\Delta y$>')"
      ]
     },
     "execution_count": 127,
     "metadata": {},
     "output_type": "execute_result"
    },
    {
     "data": {
      "image/png": "[encoded data removed]",
      "text/plain": [
       "<Figure size 432x288 with 1 Axes>"
      ]
     },
     "metadata": {
      "needs_background": "light"
     },
     "output_type": "display_data"
    }
   ],
   "source": [
    "plt.plot(np.arange(1,4.5,0.1),fuc(np.arange(1,4.5,0.1),*best_fit_parameter))\n",
    "plt.errorbar(x_axis,delta_y,boostrap_error,fmt='.k')\n",
    "plt.xlabel(\"x\",fontsize=18)\n",
    "plt.ylabel(\"<$\\Delta y$>\",fontsize=18)"
   ]
  },
  {
   "cell_type": "code",
   "execution_count": null,
   "id": "7f27bb29",
   "metadata": {},
   "outputs": [],
   "source": []
  },
  {
   "cell_type": "code",
   "execution_count": null,
   "id": "a1b259c8",
   "metadata": {},
   "outputs": [],
   "source": []
  },
  {
   "cell_type": "code",
   "execution_count": null,
   "id": "4279b0de",
   "metadata": {},
   "outputs": [],
   "source": []
  }
 ],
 "metadata": {
  "kernelspec": {
   "display_name": "Python 3 (ipykernel)",
   "language": "python",
   "name": "python3"
  },
  "language_info": {
   "codemirror_mode": {
    "name": "ipython",
    "version": 3
   },
   "file_extension": ".py",
   "mimetype": "text/x-python",
   "name": "python",
   "nbconvert_exporter": "python",
   "pygments_lexer": "ipython3",
   "version": "3.9.6"
  }
 },
 "nbformat": 4,
 "nbformat_minor": 5
}
