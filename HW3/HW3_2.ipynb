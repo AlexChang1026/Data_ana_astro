{
 "cells": [
  {
   "cell_type": "code",
   "execution_count": 13,
   "id": "a23fe5cd",
   "metadata": {},
   "outputs": [],
   "source": [
    "import numpy as np\n",
    "import astropy.io.fits as pf\n",
    "import matplotlib.pyplot as plt\n",
    "import matplotlib.cm as cm\n",
    "import scipy.stats as ss"
   ]
  },
  {
   "cell_type": "code",
   "execution_count": 14,
   "id": "751fc24f",
   "metadata": {},
   "outputs": [],
   "source": [
    "data = pf.getdata('hubble_original_data.fits',1) "
   ]
  },
  {
   "cell_type": "code",
   "execution_count": 15,
   "id": "c1faed0b",
   "metadata": {},
   "outputs": [],
   "source": [
    "x = data['distance']\n",
    "y = data['velocity']"
   ]
  },
  {
   "cell_type": "code",
   "execution_count": 16,
   "id": "9e8db26b",
   "metadata": {},
   "outputs": [],
   "source": [
    "from kapteyn import kmpfit"
   ]
  },
  {
   "cell_type": "code",
   "execution_count": 17,
   "id": "c91f7780",
   "metadata": {},
   "outputs": [],
   "source": [
    "def linear_model(p, x):      \n",
    "    a =  p            \n",
    "    return a*x"
   ]
  },
  {
   "cell_type": "code",
   "execution_count": 18,
   "id": "6ca80641",
   "metadata": {},
   "outputs": [],
   "source": [
    "def residual(p, data):\n",
    "    x, y   = data\n",
    "    return (y-linear_model(p,x))"
   ]
  },
  {
   "cell_type": "code",
   "execution_count": 35,
   "id": "a3e367f2",
   "metadata": {},
   "outputs": [],
   "source": [
    "boostrap_time = 400 \n",
    "hubble_c = [] \n",
    "for i in range(boostrap_time):\n",
    "    random_index = np.random.randint(0,len(x),len(x))\n",
    "    x_m = x[random_index]\n",
    "    y_m = y[random_index]\n",
    "    fitobj = kmpfit.Fitter(residuals=residual, data=(x_m,y_m))\n",
    "    paramsinitial = [75]\n",
    "    fitobj.fit(params0=paramsinitial)\n",
    "    hubble_c.append(fitobj.params[0])"
   ]
  },
  {
   "cell_type": "code",
   "execution_count": 41,
   "id": "99648069",
   "metadata": {},
   "outputs": [
    {
     "data": {
      "text/plain": [
       "Text(0.5, 0, 'Hubble Constant = 422.72+-')"
      ]
     },
     "execution_count": 41,
     "metadata": {},
     "output_type": "execute_result"
    },
    {
     "data": {
      "image/png": "[encoded data removed]",
      "text/plain": [
       "<Figure size 432x288 with 1 Axes>"
      ]
     },
     "metadata": {
      "needs_background": "light"
     },
     "output_type": "display_data"
    }
   ],
   "source": [
    "plt.hist(hubble_c,bins=10)\n",
    "plt.xlabel(\"Hubble Constant \",fontsize=18)"
   ]
  },
  {
   "cell_type": "code",
   "execution_count": 42,
   "id": "cc24cac8",
   "metadata": {},
   "outputs": [
    {
     "name": "stdout",
     "output_type": "stream",
     "text": [
      "Hubble Constant = 422.72+- 43.415839063337536\n"
     ]
    }
   ],
   "source": [
    "print(\"Hubble Constant = 422.72+-\",np.std(hubble_c))"
   ]
  },
  {
   "cell_type": "code",
   "execution_count": null,
   "id": "5f2601b8",
   "metadata": {},
   "outputs": [],
   "source": []
  }
 ],
 "metadata": {
  "kernelspec": {
   "display_name": "Python 3 (ipykernel)",
   "language": "python",
   "name": "python3"
  },
  "language_info": {
   "codemirror_mode": {
    "name": "ipython",
    "version": 3
   },
   "file_extension": ".py",
   "mimetype": "text/x-python",
   "name": "python",
   "nbconvert_exporter": "python",
   "pygments_lexer": "ipython3",
   "version": "3.9.6"
  }
 },
 "nbformat": 4,
 "nbformat_minor": 5
}
